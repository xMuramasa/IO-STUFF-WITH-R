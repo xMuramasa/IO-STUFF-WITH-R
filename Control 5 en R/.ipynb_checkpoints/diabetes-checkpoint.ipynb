{
 "cells": [
  {
   "cell_type": "code",
   "execution_count": 1,
   "metadata": {},
   "outputs": [
    {
     "data": {
      "text/html": [
       "<style>.container { width:95% !important; }</style>"
      ]
     },
     "metadata": {},
     "output_type": "display_data"
    }
   ],
   "source": [
    "#configuraciones\n",
    "library(repr)\n",
    "options(repr.plot.width=30,repr.plot.height=10)\n",
    "IRdisplay::display_html(\"<style>.container { width:95% !important; }</style>\")\n",
    "options(jupyter.plot_mimetypes = c(\"text/plain\", \"image/png\" ))"
   ]
  },
  {
   "cell_type": "code",
   "execution_count": 2,
   "metadata": {},
   "outputs": [],
   "source": [
    "library(tree)"
   ]
  },
  {
   "cell_type": "code",
   "execution_count": 3,
   "metadata": {},
   "outputs": [],
   "source": [
    "data <- read.table(\"DatosControl.csv\",header=TRUE,sep=',')"
   ]
  },
  {
   "cell_type": "code",
   "execution_count": 4,
   "metadata": {},
   "outputs": [
    {
     "data": {
      "text/html": [
       "<style>\n",
       ".list-inline {list-style: none; margin:0; padding: 0}\n",
       ".list-inline>li {display: inline-block}\n",
       ".list-inline>li:not(:last-child)::after {content: \"\\00b7\"; padding: 0 .5ex}\n",
       "</style>\n",
       "<ol class=list-inline><li>768</li><li>9</li></ol>\n"
      ],
      "text/latex": [
       "\\begin{enumerate*}\n",
       "\\item 768\n",
       "\\item 9\n",
       "\\end{enumerate*}\n"
      ],
      "text/markdown": [
       "1. 768\n",
       "2. 9\n",
       "\n",
       "\n"
      ],
      "text/plain": [
       "[1] 768   9"
      ]
     },
     "metadata": {},
     "output_type": "display_data"
    }
   ],
   "source": [
    "dim(data)"
   ]
  },
  {
   "cell_type": "code",
   "execution_count": 5,
   "metadata": {},
   "outputs": [
    {
     "data": {
      "text/html": [
       "<table>\n",
       "<caption>A data.frame: 5 × 9</caption>\n",
       "<thead>\n",
       "\t<tr><th></th><th scope=col>Nembarazada</th><th scope=col>Glucosa</th><th scope=col>Presion</th><th scope=col>Triceps</th><th scope=col>Insulina</th><th scope=col>IMC</th><th scope=col>Pedigree</th><th scope=col>Edad</th><th scope=col>Diabetes</th></tr>\n",
       "\t<tr><th></th><th scope=col>&lt;int&gt;</th><th scope=col>&lt;int&gt;</th><th scope=col>&lt;int&gt;</th><th scope=col>&lt;int&gt;</th><th scope=col>&lt;int&gt;</th><th scope=col>&lt;dbl&gt;</th><th scope=col>&lt;dbl&gt;</th><th scope=col>&lt;int&gt;</th><th scope=col>&lt;int&gt;</th></tr>\n",
       "</thead>\n",
       "<tbody>\n",
       "\t<tr><th scope=row>1</th><td>6</td><td>148</td><td>72</td><td>35</td><td>  0</td><td>33.6</td><td>0.627</td><td>50</td><td>1</td></tr>\n",
       "\t<tr><th scope=row>2</th><td>1</td><td> 85</td><td>66</td><td>29</td><td>  0</td><td>26.6</td><td>0.351</td><td>31</td><td>0</td></tr>\n",
       "\t<tr><th scope=row>3</th><td>8</td><td>183</td><td>64</td><td> 0</td><td>  0</td><td>23.3</td><td>0.672</td><td>32</td><td>1</td></tr>\n",
       "\t<tr><th scope=row>4</th><td>1</td><td> 89</td><td>66</td><td>23</td><td> 94</td><td>28.1</td><td>0.167</td><td>21</td><td>0</td></tr>\n",
       "\t<tr><th scope=row>5</th><td>0</td><td>137</td><td>40</td><td>35</td><td>168</td><td>43.1</td><td>2.288</td><td>33</td><td>1</td></tr>\n",
       "</tbody>\n",
       "</table>\n"
      ],
      "text/latex": [
       "A data.frame: 5 × 9\n",
       "\\begin{tabular}{r|lllllllll}\n",
       "  & Nembarazada & Glucosa & Presion & Triceps & Insulina & IMC & Pedigree & Edad & Diabetes\\\\\n",
       "  & <int> & <int> & <int> & <int> & <int> & <dbl> & <dbl> & <int> & <int>\\\\\n",
       "\\hline\n",
       "\t1 & 6 & 148 & 72 & 35 &   0 & 33.6 & 0.627 & 50 & 1\\\\\n",
       "\t2 & 1 &  85 & 66 & 29 &   0 & 26.6 & 0.351 & 31 & 0\\\\\n",
       "\t3 & 8 & 183 & 64 &  0 &   0 & 23.3 & 0.672 & 32 & 1\\\\\n",
       "\t4 & 1 &  89 & 66 & 23 &  94 & 28.1 & 0.167 & 21 & 0\\\\\n",
       "\t5 & 0 & 137 & 40 & 35 & 168 & 43.1 & 2.288 & 33 & 1\\\\\n",
       "\\end{tabular}\n"
      ],
      "text/markdown": [
       "\n",
       "A data.frame: 5 × 9\n",
       "\n",
       "| <!--/--> | Nembarazada &lt;int&gt; | Glucosa &lt;int&gt; | Presion &lt;int&gt; | Triceps &lt;int&gt; | Insulina &lt;int&gt; | IMC &lt;dbl&gt; | Pedigree &lt;dbl&gt; | Edad &lt;int&gt; | Diabetes &lt;int&gt; |\n",
       "|---|---|---|---|---|---|---|---|---|---|\n",
       "| 1 | 6 | 148 | 72 | 35 |   0 | 33.6 | 0.627 | 50 | 1 |\n",
       "| 2 | 1 |  85 | 66 | 29 |   0 | 26.6 | 0.351 | 31 | 0 |\n",
       "| 3 | 8 | 183 | 64 |  0 |   0 | 23.3 | 0.672 | 32 | 1 |\n",
       "| 4 | 1 |  89 | 66 | 23 |  94 | 28.1 | 0.167 | 21 | 0 |\n",
       "| 5 | 0 | 137 | 40 | 35 | 168 | 43.1 | 2.288 | 33 | 1 |\n",
       "\n"
      ],
      "text/plain": [
       "  Nembarazada Glucosa Presion Triceps Insulina IMC  Pedigree Edad Diabetes\n",
       "1 6           148     72      35        0      33.6 0.627    50   1       \n",
       "2 1            85     66      29        0      26.6 0.351    31   0       \n",
       "3 8           183     64       0        0      23.3 0.672    32   1       \n",
       "4 1            89     66      23       94      28.1 0.167    21   0       \n",
       "5 0           137     40      35      168      43.1 2.288    33   1       "
      ]
     },
     "metadata": {},
     "output_type": "display_data"
    }
   ],
   "source": [
    "head(data,5)"
   ]
  },
  {
   "cell_type": "code",
   "execution_count": 6,
   "metadata": {},
   "outputs": [],
   "source": [
    "data$Nembarazada <- factor(data$Nembarazada)\n",
    "data$Diabetes <- factor(data$Diabetes)\n",
    "#data$Glucosa <- factor(data$Glucosa)\n",
    "#data$Presion <- factor(data$Presion)\n",
    "#data$Triceps <- factor(data$Triceps)\n",
    "#data$Insulina <- factor(data$Insulina)\n",
    "#data$Edad <- factor(data$Edad)"
   ]
  },
  {
   "cell_type": "code",
   "execution_count": 7,
   "metadata": {},
   "outputs": [
    {
     "data": {
      "text/plain": [
       "  Nembarazada     Glucosa         Presion          Triceps         Insulina    \n",
       " 1      :135   Min.   :  0.0   Min.   :  0.00   Min.   : 0.00   Min.   :  0.0  \n",
       " 0      :111   1st Qu.: 99.0   1st Qu.: 62.00   1st Qu.: 0.00   1st Qu.:  0.0  \n",
       " 2      :103   Median :117.0   Median : 72.00   Median :23.00   Median : 30.5  \n",
       " 3      : 75   Mean   :120.9   Mean   : 69.11   Mean   :20.54   Mean   : 79.8  \n",
       " 4      : 68   3rd Qu.:140.2   3rd Qu.: 80.00   3rd Qu.:32.00   3rd Qu.:127.2  \n",
       " 5      : 57   Max.   :199.0   Max.   :122.00   Max.   :99.00   Max.   :846.0  \n",
       " (Other):219                                                                   \n",
       "      IMC           Pedigree           Edad       Diabetes\n",
       " Min.   : 0.00   Min.   :0.0780   Min.   :21.00   0:500   \n",
       " 1st Qu.:27.30   1st Qu.:0.2437   1st Qu.:24.00   1:268   \n",
       " Median :32.00   Median :0.3725   Median :29.00           \n",
       " Mean   :31.99   Mean   :0.4719   Mean   :33.24           \n",
       " 3rd Qu.:36.60   3rd Qu.:0.6262   3rd Qu.:41.00           \n",
       " Max.   :67.10   Max.   :2.4200   Max.   :81.00           \n",
       "                                                          "
      ]
     },
     "metadata": {},
     "output_type": "display_data"
    }
   ],
   "source": [
    "summary(data)"
   ]
  },
  {
   "cell_type": "code",
   "execution_count": 8,
   "metadata": {},
   "outputs": [],
   "source": [
    "createData<-function(X, d, show){\n",
    "    #Seteamos una semilla para replicar resultados\n",
    "    set.seed(42)\n",
    "    # En este caso utilizaremos un conjunto de entrenamiento con el X% de los datos\n",
    "    train_size <- floor(X * nrow(d)) #El tamaño será el X% de la cantidad de filas\n",
    "    train_mask <- sample(seq_len(nrow(d)),size= train_size) #Mascara aleatoria\n",
    "    # Separamos los conjuntos\n",
    "    train <- data[train_mask, ]\n",
    "    test <- data[-train_mask, ]\n",
    "    # se crea el arbol\n",
    "    t = tree(Diabetes ~ Nembarazada + Glucosa + Presion + Triceps + Insulina + IMC + Pedigree + Edad, data = train)\n",
    "    if(show){\n",
    "        # plot del arbol\n",
    "        plot(t)\n",
    "        text(t,pretty=1)\n",
    "        # se muestra datos del arbol\n",
    "        print(summary(t))\n",
    "    }\n",
    "    \n",
    "    # variable retorno\n",
    "    dat <- list(\"train\" = train, \"test\" = test, \"tree\" = t)\n",
    "    \n",
    "    return(dat)\n",
    "    }"
   ]
  },
  {
   "cell_type": "code",
   "execution_count": 9,
   "metadata": {},
   "outputs": [
    {
     "name": "stdout",
     "output_type": "stream",
     "text": [
      "\n",
      "Classification tree:\n",
      "tree(formula = Diabetes ~ Nembarazada + Glucosa + Presion + Triceps + \n",
      "    Insulina + IMC + Pedigree + Edad, data = train)\n",
      "Variables actually used in tree construction:\n",
      "[1] \"Glucosa\"     \"Edad\"        \"IMC\"         \"Triceps\"     \"Nembarazada\"\n",
      "[6] \"Presion\"     \"Pedigree\"   \n",
      "Number of terminal nodes:  19 \n",
      "Residual mean deviance:  0.7274 = 376.8 / 518 \n",
      "Misclassification error rate: 0.1695 = 91 / 537 \n"
     ]
    },
    {
     "data": {
      "image/png": "[encoded data removed]",
      "text/plain": [
       "plot without title"
      ]
     },
     "metadata": {
      "image/png": {
       "height": 600,
       "width": 1800
      }
     },
     "output_type": "display_data"
    }
   ],
   "source": [
    "newDat <- createData(X=0.7, d=data, show=T)"
   ]
  },
  {
   "cell_type": "code",
   "execution_count": 10,
   "metadata": {},
   "outputs": [
    {
     "data": {
      "text/plain": [
       "    \n",
       "pred   0   1\n",
       "   0 122  25\n",
       "   1  34  50"
      ]
     },
     "metadata": {},
     "output_type": "display_data"
    }
   ],
   "source": [
    "# Predecimos cada tier para los datos de pruebas\n",
    "test <- newDat$test\n",
    "pred <- predict(newDat$tree,test,type='class')\n",
    "# Creamos la matriz de confusión\n",
    "conf_matrix <- with(test,table(pred,test$Diabetes))\n",
    "conf_matrix"
   ]
  },
  {
   "cell_type": "code",
   "execution_count": 11,
   "metadata": {},
   "outputs": [
    {
     "data": {
      "text/html": [
       "0.255411255411255"
      ],
      "text/latex": [
       "0.255411255411255"
      ],
      "text/markdown": [
       "0.255411255411255"
      ],
      "text/plain": [
       "[1] 0.2554113"
      ]
     },
     "metadata": {},
     "output_type": "display_data"
    }
   ],
   "source": [
    "# precision del modelo\n",
    "acc <- sum(diag(conf_matrix))/nrow(test)\n",
    "miss_class_error <- 1 - acc\n",
    "miss_class_error"
   ]
  },
  {
   "cell_type": "code",
   "execution_count": 12,
   "metadata": {},
   "outputs": [],
   "source": [
    "createData<-function(X, d, show){\n",
    "    #Seteamos una semilla para replicar resultados\n",
    "    set.seed(42)\n",
    "    # En este caso utilizaremos un conjunto de entrenamiento con el X% de los datos\n",
    "    train_size <- floor(X * nrow(d)) #El tamaño será el X% de la cantidad de filas\n",
    "    train_mask <- sample(seq_len(nrow(d)),size= train_size) #Mascara aleatoria\n",
    "    # Separamos los conjuntos\n",
    "    train <- data[train_mask, ]\n",
    "    test <- data[-train_mask, ]\n",
    "    # se crea el arbol\n",
    "    t = tree(Diabetes ~ Nembarazada + Presion + Triceps + Insulina + Pedigree + Edad, data = train)\n",
    "    if(show){\n",
    "        # plot del arbol\n",
    "        plot(t)\n",
    "        text(t,pretty=1)\n",
    "        # se muestra datos del arbol\n",
    "        print(summary(t))\n",
    "    }\n",
    "    \n",
    "    # variable retorno\n",
    "    dat <- list(\"train\" = train, \"test\" = test, \"tree\" = t)\n",
    "    \n",
    "    return(dat)\n",
    "    }"
   ]
  },
  {
   "cell_type": "code",
   "execution_count": 13,
   "metadata": {},
   "outputs": [
    {
     "name": "stdout",
     "output_type": "stream",
     "text": [
      "\n",
      "Classification tree:\n",
      "tree(formula = Diabetes ~ Nembarazada + Presion + Triceps + Insulina + \n",
      "    Pedigree + Edad, data = train)\n",
      "Variables actually used in tree construction:\n",
      "[1] \"Edad\"        \"Triceps\"     \"Nembarazada\" \"Pedigree\"    \"Insulina\"   \n",
      "Number of terminal nodes:  11 \n",
      "Residual mean deviance:  0.973 = 511.8 / 526 \n",
      "Misclassification error rate: 0.2626 = 141 / 537 \n"
     ]
    },
    {
     "data": {
      "image/png": "[encoded data removed]",
      "text/plain": [
       "plot without title"
      ]
     },
     "metadata": {
      "image/png": {
       "height": 600,
       "width": 1800
      }
     },
     "output_type": "display_data"
    }
   ],
   "source": [
    "newDat2 <- createData(X=0.7, d=data, show=T)"
   ]
  },
  {
   "cell_type": "code",
   "execution_count": 14,
   "metadata": {},
   "outputs": [
    {
     "data": {
      "text/plain": [
       "    \n",
       "pred   0   1\n",
       "   0 135  60\n",
       "   1  21  15"
      ]
     },
     "metadata": {},
     "output_type": "display_data"
    }
   ],
   "source": [
    "# Predecimos cada tier para los datos de pruebas\n",
    "test <- newDat2$test\n",
    "pred <- predict(newDat2$tree,test,type='class')\n",
    "# Creamos la matriz de confusión\n",
    "conf_matrix2 <- with(test,table(pred,test$Diabetes))\n",
    "conf_matrix2"
   ]
  },
  {
   "cell_type": "code",
   "execution_count": 15,
   "metadata": {},
   "outputs": [
    {
     "data": {
      "text/html": [
       "0.350649350649351"
      ],
      "text/latex": [
       "0.350649350649351"
      ],
      "text/markdown": [
       "0.350649350649351"
      ],
      "text/plain": [
       "[1] 0.3506494"
      ]
     },
     "metadata": {},
     "output_type": "display_data"
    }
   ],
   "source": [
    "# precision del modelo\n",
    "acc <- sum(diag(conf_matrix2))/nrow(test)\n",
    "miss_class_error2 <- 1 - acc\n",
    "miss_class_error2"
   ]
  }
 ],
 "metadata": {
  "kernelspec": {
   "display_name": "R",
   "language": "R",
   "name": "ir"
  },
  "language_info": {
   "codemirror_mode": "r",
   "file_extension": ".r",
   "mimetype": "text/x-r-source",
   "name": "R",
   "pygments_lexer": "r",
   "version": "4.0.2"
  }
 },
 "nbformat": 4,
 "nbformat_minor": 4
}
